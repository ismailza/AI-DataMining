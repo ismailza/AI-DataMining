{
 "cells": [
  {
   "cell_type": "markdown",
   "id": "d615086f-6058-44cc-b9bf-d0379f5b1e0b",
   "metadata": {},
   "source": [
    "# Algèbre linéaire avec Numpy"
   ]
  },
  {
   "cell_type": "code",
   "execution_count": 5,
   "id": "9c4ae7f9-34dc-42e8-8952-abd9d850236d",
   "metadata": {},
   "outputs": [],
   "source": [
    "import numpy as np"
   ]
  },
  {
   "cell_type": "code",
   "execution_count": 6,
   "id": "326c7071-87f5-466a-a32a-cf25bf1fdbcd",
   "metadata": {},
   "outputs": [
    {
     "data": {
      "text/plain": [
       "array([[ 0,  1,  2,  3,  4],\n",
       "       [ 5,  6,  7,  8,  9],\n",
       "       [10, 11, 12, 13, 14]])"
      ]
     },
     "execution_count": 6,
     "metadata": {},
     "output_type": "execute_result"
    }
   ],
   "source": [
    "arr = np.arange(15).reshape((3, 5))\n",
    "arr\n"
   ]
  },
  {
   "cell_type": "markdown",
   "id": "622db96e-cbae-422a-b0ae-52a7d5a35c05",
   "metadata": {},
   "source": [
    "## La transposée"
   ]
  },
  {
   "cell_type": "code",
   "execution_count": 7,
   "id": "88702d2f-de59-4bb3-89b6-3683ea9757e0",
   "metadata": {},
   "outputs": [
    {
     "data": {
      "text/plain": [
       "array([[ 0,  5, 10],\n",
       "       [ 1,  6, 11],\n",
       "       [ 2,  7, 12],\n",
       "       [ 3,  8, 13],\n",
       "       [ 4,  9, 14]])"
      ]
     },
     "execution_count": 7,
     "metadata": {},
     "output_type": "execute_result"
    }
   ],
   "source": [
    "arr.T"
   ]
  },
  {
   "cell_type": "markdown",
   "id": "684d0aa2-f23b-4ef7-93b9-4e3b32bf9137",
   "metadata": {},
   "source": [
    "## Le produit matriciel"
   ]
  },
  {
   "cell_type": "code",
   "execution_count": 8,
   "id": "0e2204db-a509-4dc4-8c50-bc50d2dc1a7a",
   "metadata": {},
   "outputs": [
    {
     "data": {
      "text/plain": [
       "array([[125, 140, 155, 170, 185],\n",
       "       [140, 158, 176, 194, 212],\n",
       "       [155, 176, 197, 218, 239],\n",
       "       [170, 194, 218, 242, 266],\n",
       "       [185, 212, 239, 266, 293]])"
      ]
     },
     "execution_count": 8,
     "metadata": {},
     "output_type": "execute_result"
    }
   ],
   "source": [
    "np.matmul(arr.T, arr)"
   ]
  },
  {
   "cell_type": "code",
   "execution_count": 9,
   "id": "29ce0b5f-892a-4ce8-9a65-644fe5073487",
   "metadata": {},
   "outputs": [
    {
     "data": {
      "text/plain": [
       "array([[125, 140, 155, 170, 185],\n",
       "       [140, 158, 176, 194, 212],\n",
       "       [155, 176, 197, 218, 239],\n",
       "       [170, 194, 218, 242, 266],\n",
       "       [185, 212, 239, 266, 293]])"
      ]
     },
     "execution_count": 9,
     "metadata": {},
     "output_type": "execute_result"
    }
   ],
   "source": [
    "arr.T@arr"
   ]
  },
  {
   "cell_type": "markdown",
   "id": "71d63f35-2f2f-4211-ae61-a0a8309cb6f2",
   "metadata": {},
   "source": [
    "## Le produit scalaire"
   ]
  },
  {
   "cell_type": "code",
   "execution_count": 10,
   "id": "06559fc3-16d9-4b96-a903-33e94362a6b0",
   "metadata": {},
   "outputs": [],
   "source": [
    "x = np.array([1,2,3,4,7])"
   ]
  },
  {
   "cell_type": "code",
   "execution_count": 11,
   "id": "2a334496-ffcc-49eb-9622-8d1e6efe7bc8",
   "metadata": {},
   "outputs": [],
   "source": [
    "y = np.array([5,8,9,7,9])"
   ]
  },
  {
   "cell_type": "code",
   "execution_count": 12,
   "id": "57f370e9-588b-4d47-8442-e100fadee22d",
   "metadata": {},
   "outputs": [
    {
     "data": {
      "text/plain": [
       "139"
      ]
     },
     "execution_count": 12,
     "metadata": {},
     "output_type": "execute_result"
    }
   ],
   "source": [
    "np.dot(x,y)"
   ]
  },
  {
   "cell_type": "code",
   "execution_count": 13,
   "id": "aaa60573-660a-4e99-b390-de184d2f8adc",
   "metadata": {},
   "outputs": [
    {
     "data": {
      "text/plain": [
       "139"
      ]
     },
     "execution_count": 13,
     "metadata": {},
     "output_type": "execute_result"
    }
   ],
   "source": [
    "x.dot(y)"
   ]
  },
  {
   "cell_type": "markdown",
   "id": "1dee9f14-8278-418f-9bc2-119757640ad0",
   "metadata": {},
   "source": [
    "## Inverse"
   ]
  },
  {
   "cell_type": "code",
   "execution_count": 14,
   "id": "87b2cb75-4652-49e0-b85e-0de4b8fe6d91",
   "metadata": {},
   "outputs": [],
   "source": [
    "from numpy.linalg import inv"
   ]
  },
  {
   "cell_type": "code",
   "execution_count": 15,
   "id": "fe54b244-5ea3-4565-bc45-ed3cedfe713f",
   "metadata": {},
   "outputs": [],
   "source": [
    "mat = np.array([[5,8,6,4], [7,8,2,1], [8,2,6,3], [1,4,9,6]])"
   ]
  },
  {
   "cell_type": "code",
   "execution_count": 16,
   "id": "70298a2c-0f98-482c-beac-d9458b146637",
   "metadata": {},
   "outputs": [
    {
     "data": {
      "text/plain": [
       "array([[5, 8, 6, 4],\n",
       "       [7, 8, 2, 1],\n",
       "       [8, 2, 6, 3],\n",
       "       [1, 4, 9, 6]])"
      ]
     },
     "execution_count": 16,
     "metadata": {},
     "output_type": "execute_result"
    }
   ],
   "source": [
    "mat"
   ]
  },
  {
   "cell_type": "code",
   "execution_count": 17,
   "id": "0954ca7e-72eb-4f22-b717-9f529a1faab6",
   "metadata": {},
   "outputs": [
    {
     "data": {
      "text/plain": [
       "array([[ 0.84615385, -0.61538462,  0.20512821, -0.56410256],\n",
       "       [-0.5       ,  0.5       , -0.16666667,  0.33333333],\n",
       "       [-4.23076923,  3.07692308, -0.35897436,  2.48717949],\n",
       "       [ 6.53846154, -4.84615385,  0.61538462, -3.69230769]])"
      ]
     },
     "execution_count": 17,
     "metadata": {},
     "output_type": "execute_result"
    }
   ],
   "source": [
    "inv(mat)"
   ]
  }
 ],
 "metadata": {
  "kernelspec": {
   "display_name": "Python 3 (ipykernel)",
   "language": "python",
   "name": "python3"
  },
  "language_info": {
   "codemirror_mode": {
    "name": "ipython",
    "version": 3
   },
   "file_extension": ".py",
   "mimetype": "text/x-python",
   "name": "python",
   "nbconvert_exporter": "python",
   "pygments_lexer": "ipython3",
   "version": "3.11.5"
  }
 },
 "nbformat": 4,
 "nbformat_minor": 5
}
