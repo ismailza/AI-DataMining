{
 "cells": [
  {
   "cell_type": "markdown",
   "metadata": {},
   "source": [
    "# AGNES Hierarchical clustering algorithm implementation"
   ]
  },
  {
   "cell_type": "code",
   "execution_count": 1,
   "metadata": {},
   "outputs": [],
   "source": [
    "import pandas as pd\n",
    "import numpy as np\n",
    "from package.normalize import normalize_data\n",
    "from package.distance import calcul_distances"
   ]
  },
  {
   "cell_type": "code",
   "execution_count": 2,
   "metadata": {},
   "outputs": [],
   "source": [
    "def display_dist_matrix(labels: list, matrix: np.ndarray):\n",
    "  # create a pandas dataframe from the numpy matrix with row and column labels\n",
    "  df = pd.DataFrame(matrix, index=labels, columns=labels)\n",
    "  # display the dataframe with labels for rows and columns\n",
    "  styled_df = df.style.set_caption('Matrix').set_table_styles(\n",
    "    [{'selector': 'th', 'props': [('font-size', '14px')]}]).set_properties(\n",
    "    **{'text-align': 'center', 'font-size': '12px'}).set_table_attributes('border=\"1\"')\n",
    "\n",
    "  display(styled_df)"
   ]
  },
  {
   "cell_type": "code",
   "execution_count": 3,
   "metadata": {},
   "outputs": [],
   "source": [
    "# Get the index of the minimum value of the matrix\n",
    "def np_min_ignore_diagonal(z: np.ndarray):\n",
    "  row_index , col_index = 0, 1\n",
    "  for i in range(len(z)):\n",
    "    for j in range(len(z)):\n",
    "      if i == j:\n",
    "        continue\n",
    "      if z[i, j] < z[row_index, col_index]:\n",
    "        row_index = i\n",
    "        col_index = j\n",
    "  return row_index, col_index"
   ]
  },
  {
   "cell_type": "code",
   "execution_count": 4,
   "metadata": {},
   "outputs": [],
   "source": [
    "def agnes(df: pd.DataFrame, num_clusters: int = 2, options: dict = {}):\n",
    "    # Normalize data\n",
    "    normalize_data(df, None)\n",
    "    print('Normalized data:')\n",
    "    print(df, end='\\n\\n')\n",
    "    \n",
    "    labels = list(map(str, df['id'].values))\n",
    "    if 'class' in df.columns:\n",
    "        df = df.drop(columns=['id', 'class'])\n",
    "    else:\n",
    "        df = df.drop(columns=['id'])\n",
    "    Z = calcul_distances(df, labels)\n",
    "\n",
    "    \n",
    "    while len(Z) > 1 and len(labels) > num_clusters:\n",
    "        display_dist_matrix(labels, Z)\n",
    "        \n",
    "        row_index, col_index = np_min_ignore_diagonal(Z)\n",
    "\n",
    "        \n",
    "        for j in range(len(Z)):\n",
    "            if j == col_index:\n",
    "                Z[row_index, j] = float('inf')\n",
    "            elif j != row_index:\n",
    "                Z[row_index, j] = min(Z[row_index, j], Z[col_index, j])\n",
    "                Z[j, row_index] = Z[row_index, j]\n",
    "        Z = np.delete(Z, col_index, 0)\n",
    "        Z = np.delete(Z, col_index, 1)\n",
    "\n",
    "        labels[row_index] = f'{labels[row_index]}-{labels[col_index]}'\n",
    "        labels = list(np.delete(labels, col_index, 0))\n",
    "\n",
    "    \n",
    "    print(\"Final distance matrix:\")\n",
    "    display_dist_matrix(labels, Z)\n",
    "    print(\"\\nFinal clusters:\", labels)"
   ]
  },
  {
   "cell_type": "markdown",
   "metadata": {},
   "source": [
    "## Main"
   ]
  },
  {
   "cell_type": "code",
   "execution_count": 5,
   "metadata": {},
   "outputs": [
    {
     "name": "stdout",
     "output_type": "stream",
     "text": [
      "Normalized data:\n",
      "   id     note1     note2\n",
      "0  e1  0.333333  0.222222\n",
      "1  e2  0.833333  0.666667\n",
      "2  e3  1.000000  1.000000\n",
      "3  e4  0.000000  0.000000\n",
      "4  e5  0.666667  0.555556\n",
      "\n"
     ]
    },
    {
     "data": {
      "text/html": [
       "<style type=\"text/css\">\n",
       "#T_96340 th {\n",
       "  font-size: 14px;\n",
       "}\n",
       "#T_96340_row0_col0, #T_96340_row0_col1, #T_96340_row0_col2, #T_96340_row0_col3, #T_96340_row0_col4, #T_96340_row1_col0, #T_96340_row1_col1, #T_96340_row1_col2, #T_96340_row1_col3, #T_96340_row1_col4, #T_96340_row2_col0, #T_96340_row2_col1, #T_96340_row2_col2, #T_96340_row2_col3, #T_96340_row2_col4, #T_96340_row3_col0, #T_96340_row3_col1, #T_96340_row3_col2, #T_96340_row3_col3, #T_96340_row3_col4, #T_96340_row4_col0, #T_96340_row4_col1, #T_96340_row4_col2, #T_96340_row4_col3, #T_96340_row4_col4 {\n",
       "  text-align: center;\n",
       "  font-size: 12px;\n",
       "}\n",
       "</style>\n",
       "<table id=\"T_96340\" border=\"1\">\n",
       "  <caption>Matrix</caption>\n",
       "  <thead>\n",
       "    <tr>\n",
       "      <th class=\"blank level0\" >&nbsp;</th>\n",
       "      <th id=\"T_96340_level0_col0\" class=\"col_heading level0 col0\" >e1</th>\n",
       "      <th id=\"T_96340_level0_col1\" class=\"col_heading level0 col1\" >e2</th>\n",
       "      <th id=\"T_96340_level0_col2\" class=\"col_heading level0 col2\" >e3</th>\n",
       "      <th id=\"T_96340_level0_col3\" class=\"col_heading level0 col3\" >e4</th>\n",
       "      <th id=\"T_96340_level0_col4\" class=\"col_heading level0 col4\" >e5</th>\n",
       "    </tr>\n",
       "  </thead>\n",
       "  <tbody>\n",
       "    <tr>\n",
       "      <th id=\"T_96340_level0_row0\" class=\"row_heading level0 row0\" >e1</th>\n",
       "      <td id=\"T_96340_row0_col0\" class=\"data row0 col0\" >0.000000</td>\n",
       "      <td id=\"T_96340_row0_col1\" class=\"data row0 col1\" >0.472222</td>\n",
       "      <td id=\"T_96340_row0_col2\" class=\"data row0 col2\" >0.722222</td>\n",
       "      <td id=\"T_96340_row0_col3\" class=\"data row0 col3\" >0.277778</td>\n",
       "      <td id=\"T_96340_row0_col4\" class=\"data row0 col4\" >0.333333</td>\n",
       "    </tr>\n",
       "    <tr>\n",
       "      <th id=\"T_96340_level0_row1\" class=\"row_heading level0 row1\" >e2</th>\n",
       "      <td id=\"T_96340_row1_col0\" class=\"data row1 col0\" >0.472222</td>\n",
       "      <td id=\"T_96340_row1_col1\" class=\"data row1 col1\" >0.000000</td>\n",
       "      <td id=\"T_96340_row1_col2\" class=\"data row1 col2\" >0.250000</td>\n",
       "      <td id=\"T_96340_row1_col3\" class=\"data row1 col3\" >0.750000</td>\n",
       "      <td id=\"T_96340_row1_col4\" class=\"data row1 col4\" >0.138889</td>\n",
       "    </tr>\n",
       "    <tr>\n",
       "      <th id=\"T_96340_level0_row2\" class=\"row_heading level0 row2\" >e3</th>\n",
       "      <td id=\"T_96340_row2_col0\" class=\"data row2 col0\" >0.722222</td>\n",
       "      <td id=\"T_96340_row2_col1\" class=\"data row2 col1\" >0.250000</td>\n",
       "      <td id=\"T_96340_row2_col2\" class=\"data row2 col2\" >0.000000</td>\n",
       "      <td id=\"T_96340_row2_col3\" class=\"data row2 col3\" >1.000000</td>\n",
       "      <td id=\"T_96340_row2_col4\" class=\"data row2 col4\" >0.388889</td>\n",
       "    </tr>\n",
       "    <tr>\n",
       "      <th id=\"T_96340_level0_row3\" class=\"row_heading level0 row3\" >e4</th>\n",
       "      <td id=\"T_96340_row3_col0\" class=\"data row3 col0\" >0.277778</td>\n",
       "      <td id=\"T_96340_row3_col1\" class=\"data row3 col1\" >0.750000</td>\n",
       "      <td id=\"T_96340_row3_col2\" class=\"data row3 col2\" >1.000000</td>\n",
       "      <td id=\"T_96340_row3_col3\" class=\"data row3 col3\" >0.000000</td>\n",
       "      <td id=\"T_96340_row3_col4\" class=\"data row3 col4\" >0.611111</td>\n",
       "    </tr>\n",
       "    <tr>\n",
       "      <th id=\"T_96340_level0_row4\" class=\"row_heading level0 row4\" >e5</th>\n",
       "      <td id=\"T_96340_row4_col0\" class=\"data row4 col0\" >0.333333</td>\n",
       "      <td id=\"T_96340_row4_col1\" class=\"data row4 col1\" >0.138889</td>\n",
       "      <td id=\"T_96340_row4_col2\" class=\"data row4 col2\" >0.388889</td>\n",
       "      <td id=\"T_96340_row4_col3\" class=\"data row4 col3\" >0.611111</td>\n",
       "      <td id=\"T_96340_row4_col4\" class=\"data row4 col4\" >0.000000</td>\n",
       "    </tr>\n",
       "  </tbody>\n",
       "</table>\n"
      ],
      "text/plain": [
       "<pandas.io.formats.style.Styler at 0x1e87b350c90>"
      ]
     },
     "metadata": {},
     "output_type": "display_data"
    },
    {
     "data": {
      "text/html": [
       "<style type=\"text/css\">\n",
       "#T_56648 th {\n",
       "  font-size: 14px;\n",
       "}\n",
       "#T_56648_row0_col0, #T_56648_row0_col1, #T_56648_row0_col2, #T_56648_row0_col3, #T_56648_row1_col0, #T_56648_row1_col1, #T_56648_row1_col2, #T_56648_row1_col3, #T_56648_row2_col0, #T_56648_row2_col1, #T_56648_row2_col2, #T_56648_row2_col3, #T_56648_row3_col0, #T_56648_row3_col1, #T_56648_row3_col2, #T_56648_row3_col3 {\n",
       "  text-align: center;\n",
       "  font-size: 12px;\n",
       "}\n",
       "</style>\n",
       "<table id=\"T_56648\" border=\"1\">\n",
       "  <caption>Matrix</caption>\n",
       "  <thead>\n",
       "    <tr>\n",
       "      <th class=\"blank level0\" >&nbsp;</th>\n",
       "      <th id=\"T_56648_level0_col0\" class=\"col_heading level0 col0\" >e1</th>\n",
       "      <th id=\"T_56648_level0_col1\" class=\"col_heading level0 col1\" >e2-e5</th>\n",
       "      <th id=\"T_56648_level0_col2\" class=\"col_heading level0 col2\" >e3</th>\n",
       "      <th id=\"T_56648_level0_col3\" class=\"col_heading level0 col3\" >e4</th>\n",
       "    </tr>\n",
       "  </thead>\n",
       "  <tbody>\n",
       "    <tr>\n",
       "      <th id=\"T_56648_level0_row0\" class=\"row_heading level0 row0\" >e1</th>\n",
       "      <td id=\"T_56648_row0_col0\" class=\"data row0 col0\" >0.000000</td>\n",
       "      <td id=\"T_56648_row0_col1\" class=\"data row0 col1\" >0.333333</td>\n",
       "      <td id=\"T_56648_row0_col2\" class=\"data row0 col2\" >0.722222</td>\n",
       "      <td id=\"T_56648_row0_col3\" class=\"data row0 col3\" >0.277778</td>\n",
       "    </tr>\n",
       "    <tr>\n",
       "      <th id=\"T_56648_level0_row1\" class=\"row_heading level0 row1\" >e2-e5</th>\n",
       "      <td id=\"T_56648_row1_col0\" class=\"data row1 col0\" >0.333333</td>\n",
       "      <td id=\"T_56648_row1_col1\" class=\"data row1 col1\" >0.000000</td>\n",
       "      <td id=\"T_56648_row1_col2\" class=\"data row1 col2\" >0.250000</td>\n",
       "      <td id=\"T_56648_row1_col3\" class=\"data row1 col3\" >0.611111</td>\n",
       "    </tr>\n",
       "    <tr>\n",
       "      <th id=\"T_56648_level0_row2\" class=\"row_heading level0 row2\" >e3</th>\n",
       "      <td id=\"T_56648_row2_col0\" class=\"data row2 col0\" >0.722222</td>\n",
       "      <td id=\"T_56648_row2_col1\" class=\"data row2 col1\" >0.250000</td>\n",
       "      <td id=\"T_56648_row2_col2\" class=\"data row2 col2\" >0.000000</td>\n",
       "      <td id=\"T_56648_row2_col3\" class=\"data row2 col3\" >1.000000</td>\n",
       "    </tr>\n",
       "    <tr>\n",
       "      <th id=\"T_56648_level0_row3\" class=\"row_heading level0 row3\" >e4</th>\n",
       "      <td id=\"T_56648_row3_col0\" class=\"data row3 col0\" >0.277778</td>\n",
       "      <td id=\"T_56648_row3_col1\" class=\"data row3 col1\" >0.611111</td>\n",
       "      <td id=\"T_56648_row3_col2\" class=\"data row3 col2\" >1.000000</td>\n",
       "      <td id=\"T_56648_row3_col3\" class=\"data row3 col3\" >0.000000</td>\n",
       "    </tr>\n",
       "  </tbody>\n",
       "</table>\n"
      ],
      "text/plain": [
       "<pandas.io.formats.style.Styler at 0x1e87b550710>"
      ]
     },
     "metadata": {},
     "output_type": "display_data"
    },
    {
     "data": {
      "text/html": [
       "<style type=\"text/css\">\n",
       "#T_40fe3 th {\n",
       "  font-size: 14px;\n",
       "}\n",
       "#T_40fe3_row0_col0, #T_40fe3_row0_col1, #T_40fe3_row0_col2, #T_40fe3_row1_col0, #T_40fe3_row1_col1, #T_40fe3_row1_col2, #T_40fe3_row2_col0, #T_40fe3_row2_col1, #T_40fe3_row2_col2 {\n",
       "  text-align: center;\n",
       "  font-size: 12px;\n",
       "}\n",
       "</style>\n",
       "<table id=\"T_40fe3\" border=\"1\">\n",
       "  <caption>Matrix</caption>\n",
       "  <thead>\n",
       "    <tr>\n",
       "      <th class=\"blank level0\" >&nbsp;</th>\n",
       "      <th id=\"T_40fe3_level0_col0\" class=\"col_heading level0 col0\" >e1</th>\n",
       "      <th id=\"T_40fe3_level0_col1\" class=\"col_heading level0 col1\" >e2-e5-e3</th>\n",
       "      <th id=\"T_40fe3_level0_col2\" class=\"col_heading level0 col2\" >e4</th>\n",
       "    </tr>\n",
       "  </thead>\n",
       "  <tbody>\n",
       "    <tr>\n",
       "      <th id=\"T_40fe3_level0_row0\" class=\"row_heading level0 row0\" >e1</th>\n",
       "      <td id=\"T_40fe3_row0_col0\" class=\"data row0 col0\" >0.000000</td>\n",
       "      <td id=\"T_40fe3_row0_col1\" class=\"data row0 col1\" >0.333333</td>\n",
       "      <td id=\"T_40fe3_row0_col2\" class=\"data row0 col2\" >0.277778</td>\n",
       "    </tr>\n",
       "    <tr>\n",
       "      <th id=\"T_40fe3_level0_row1\" class=\"row_heading level0 row1\" >e2-e5-e3</th>\n",
       "      <td id=\"T_40fe3_row1_col0\" class=\"data row1 col0\" >0.333333</td>\n",
       "      <td id=\"T_40fe3_row1_col1\" class=\"data row1 col1\" >0.000000</td>\n",
       "      <td id=\"T_40fe3_row1_col2\" class=\"data row1 col2\" >0.611111</td>\n",
       "    </tr>\n",
       "    <tr>\n",
       "      <th id=\"T_40fe3_level0_row2\" class=\"row_heading level0 row2\" >e4</th>\n",
       "      <td id=\"T_40fe3_row2_col0\" class=\"data row2 col0\" >0.277778</td>\n",
       "      <td id=\"T_40fe3_row2_col1\" class=\"data row2 col1\" >0.611111</td>\n",
       "      <td id=\"T_40fe3_row2_col2\" class=\"data row2 col2\" >0.000000</td>\n",
       "    </tr>\n",
       "  </tbody>\n",
       "</table>\n"
      ],
      "text/plain": [
       "<pandas.io.formats.style.Styler at 0x1e87b53c050>"
      ]
     },
     "metadata": {},
     "output_type": "display_data"
    },
    {
     "name": "stdout",
     "output_type": "stream",
     "text": [
      "Final distance matrix:\n"
     ]
    },
    {
     "data": {
      "text/html": [
       "<style type=\"text/css\">\n",
       "#T_acdf9 th {\n",
       "  font-size: 14px;\n",
       "}\n",
       "#T_acdf9_row0_col0, #T_acdf9_row0_col1, #T_acdf9_row1_col0, #T_acdf9_row1_col1 {\n",
       "  text-align: center;\n",
       "  font-size: 12px;\n",
       "}\n",
       "</style>\n",
       "<table id=\"T_acdf9\" border=\"1\">\n",
       "  <caption>Matrix</caption>\n",
       "  <thead>\n",
       "    <tr>\n",
       "      <th class=\"blank level0\" >&nbsp;</th>\n",
       "      <th id=\"T_acdf9_level0_col0\" class=\"col_heading level0 col0\" >e1-e4</th>\n",
       "      <th id=\"T_acdf9_level0_col1\" class=\"col_heading level0 col1\" >e2-e5-e3</th>\n",
       "    </tr>\n",
       "  </thead>\n",
       "  <tbody>\n",
       "    <tr>\n",
       "      <th id=\"T_acdf9_level0_row0\" class=\"row_heading level0 row0\" >e1-e4</th>\n",
       "      <td id=\"T_acdf9_row0_col0\" class=\"data row0 col0\" >0.000000</td>\n",
       "      <td id=\"T_acdf9_row0_col1\" class=\"data row0 col1\" >0.333333</td>\n",
       "    </tr>\n",
       "    <tr>\n",
       "      <th id=\"T_acdf9_level0_row1\" class=\"row_heading level0 row1\" >e2-e5-e3</th>\n",
       "      <td id=\"T_acdf9_row1_col0\" class=\"data row1 col0\" >0.333333</td>\n",
       "      <td id=\"T_acdf9_row1_col1\" class=\"data row1 col1\" >0.000000</td>\n",
       "    </tr>\n",
       "  </tbody>\n",
       "</table>\n"
      ],
      "text/plain": [
       "<pandas.io.formats.style.Styler at 0x1e8796abe50>"
      ]
     },
     "metadata": {},
     "output_type": "display_data"
    },
    {
     "name": "stdout",
     "output_type": "stream",
     "text": [
      "\n",
      "Final clusters: ['e1-e4', 'e2-e5-e3']\n"
     ]
    }
   ],
   "source": [
    "data = pd.read_csv('data/exam-data.csv')\n",
    "labels = data['id'].values\n",
    "\n",
    "agnes(data, 2)"
   ]
  }
 ],
 "metadata": {
  "kernelspec": {
   "display_name": "Python 3",
   "language": "python",
   "name": "python3"
  },
  "language_info": {
   "codemirror_mode": {
    "name": "ipython",
    "version": 3
   },
   "file_extension": ".py",
   "mimetype": "text/x-python",
   "name": "python",
   "nbconvert_exporter": "python",
   "pygments_lexer": "ipython3",
   "version": "3.11.5"
  },
  "orig_nbformat": 4
 },
 "nbformat": 4,
 "nbformat_minor": 2
}
